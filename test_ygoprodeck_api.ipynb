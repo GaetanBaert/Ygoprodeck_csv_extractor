{
 "cells": [
  {
   "cell_type": "code",
   "execution_count": 1,
   "metadata": {},
   "outputs": [],
   "source": [
    "import requests\n",
    "\n",
    "resp = requests.get(\"https://db.ygoprodeck.com/api/v7/cardinfo.php\")\n",
    "cards_json = resp.content"
   ]
  },
  {
   "cell_type": "code",
   "execution_count": 2,
   "metadata": {},
   "outputs": [],
   "source": [
    "import json\n",
    "deserialized = json.loads(cards_json)"
   ]
  },
  {
   "cell_type": "code",
   "execution_count": 3,
   "metadata": {},
   "outputs": [
    {
     "name": "stderr",
     "output_type": "stream",
     "text": [
      "100%|██████████| 12878/12878 [00:00<00:00, 236827.73it/s]\n"
     ]
    }
   ],
   "source": [
    "from tqdm import tqdm\n",
    "common_cards = list() \n",
    "for card in tqdm(deserialized[\"data\"]):\n",
    "    if \"card_sets\" in card:\n",
    "        available_rarities = set([card_set[\"set_rarity\"] for card_set in card[\"card_sets\"]])\n",
    "        if \"Common\" in available_rarities:\n",
    "            authorized = True\n",
    "            if \"banlist_info\" in card:\n",
    "                if \"ban_tcg\" in card[\"banlist_info\"]:\n",
    "                    authorized = \"Banned\" == card[\"banlist_info\"][\"ban_tcg\"]\n",
    "            authorized = card[\"type\"] not in [\"Skill Card\", \"Token\"]\n",
    "            if authorized:\n",
    "                common_cards.append(card)\n"
   ]
  },
  {
   "cell_type": "code",
   "execution_count": 4,
   "metadata": {},
   "outputs": [
    {
     "name": "stderr",
     "output_type": "stream",
     "text": [
      "100%|██████████| 7694/7694 [00:00<00:00, 85718.55it/s]\n"
     ]
    }
   ],
   "source": [
    "import csv\n",
    "with open(\"common_cards.tsv\", \"w+\") as csvfile:\n",
    "    writer = csv.writer(csvfile, delimiter=\"\\t\", lineterminator=\"\\n\")\n",
    "    writer.writerow([\"name\", \"card_type\", \"type\", \"attribute\", \"atk\", \"def\", \"level\", \"scale\", \"number_authorized\"])\n",
    "    for card in tqdm(common_cards):\n",
    "        name = card[\"name\"]\n",
    "        card_type = card[\"type\"]\n",
    "        type = card[\"race\"]\n",
    "        if \"attribute\" in card:\n",
    "            attribute = card[\"attribute\"]\n",
    "            atk = card[\"atk\"]\n",
    "        else:\n",
    "            attribute = \"N/A\"\n",
    "            atk = \"N/A\"\n",
    "        if \"def\" in card:\n",
    "            defense = card[\"def\"]\n",
    "            level = card[\"level\"]\n",
    "        else:\n",
    "            defense = \"N/A\"\n",
    "            level = \"N/A\"\n",
    "        if \"scale\" in card:\n",
    "            scale = card[\"scale\"]\n",
    "        else:\n",
    "            scale = \"N/A\"\n",
    "        if \"banlist_info\" in card:\n",
    "            if \"ban_tcg\" in card[\"banlist_info\"]:\n",
    "                if card[\"banlist_info\"][\"ban_tcg\"] ==\"Limited\":\n",
    "                    number_authorized = 1\n",
    "                elif card[\"banlist_info\"][\"ban_tcg\"] == \"Semi-Limited\":\n",
    "                    number_authorized = 2\n",
    "                elif card[\"banlist_info\"][\"ban_tcg\"] == \"Banned\":\n",
    "                    number_authorized = 0\n",
    "            else:\n",
    "                number_authorized = 3\n",
    "        else:\n",
    "            number_authorized = 3\n",
    "                \n",
    "        writer.writerow([name, card_type, type, attribute, atk, defense, level, scale, number_authorized])\n"
   ]
  },
  {
   "cell_type": "code",
   "execution_count": 11,
   "metadata": {},
   "outputs": [
    {
     "data": {
      "text/plain": [
       "{'ban_ocg': 'Banned'}"
      ]
     },
     "execution_count": 11,
     "metadata": {},
     "output_type": "execute_result"
    }
   ],
   "source": []
  }
 ],
 "metadata": {
  "kernelspec": {
   "display_name": "PenaltiesTool",
   "language": "python",
   "name": "python3"
  },
  "language_info": {
   "codemirror_mode": {
    "name": "ipython",
    "version": 3
   },
   "file_extension": ".py",
   "mimetype": "text/x-python",
   "name": "python",
   "nbconvert_exporter": "python",
   "pygments_lexer": "ipython3",
   "version": "3.8.0"
  }
 },
 "nbformat": 4,
 "nbformat_minor": 2
}
